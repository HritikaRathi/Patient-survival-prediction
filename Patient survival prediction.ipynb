{
 "cells": [
  {
   "cell_type": "code",
   "execution_count": 27,
   "id": "0377bd91",
   "metadata": {},
   "outputs": [],
   "source": [
    "import numpy as np\n",
    "import pandas as pd\n",
    "import matplotlib.pyplot as plt\n",
    "import seaborn as sns\n",
    "\n",
    "\n",
    "from sklearn.metrics.pairwise import haversine_distances\n",
    "from math import radians, cos, sin, asin, sqrt\n",
    "\n",
    "from sklearn.model_selection import train_test_split\n",
    "\n",
    "from sklearn.feature_selection import RFE\n",
    "from sklearn.ensemble import RandomForestRegressor\n",
    "\n",
    "\n",
    "from sklearn.metrics import classification_report, mean_absolute_error, mean_squared_error, r2_score"
   ]
  },
  {
   "cell_type": "code",
   "execution_count": 28,
   "id": "a1af6633",
   "metadata": {},
   "outputs": [],
   "source": [
    "df = pd.read_csv('Patient survival Dataset.csv')"
   ]
  },
  {
   "cell_type": "code",
   "execution_count": 29,
   "id": "bb878150",
   "metadata": {},
   "outputs": [
    {
     "data": {
      "text/html": [
       "<div>\n",
       "<style scoped>\n",
       "    .dataframe tbody tr th:only-of-type {\n",
       "        vertical-align: middle;\n",
       "    }\n",
       "\n",
       "    .dataframe tbody tr th {\n",
       "        vertical-align: top;\n",
       "    }\n",
       "\n",
       "    .dataframe thead th {\n",
       "        text-align: right;\n",
       "    }\n",
       "</style>\n",
       "<table border=\"1\" class=\"dataframe\">\n",
       "  <thead>\n",
       "    <tr style=\"text-align: right;\">\n",
       "      <th></th>\n",
       "      <th>encounter_id</th>\n",
       "      <th>patient_id</th>\n",
       "      <th>hospital_id</th>\n",
       "      <th>hospital_death</th>\n",
       "      <th>age</th>\n",
       "      <th>bmi</th>\n",
       "      <th>elective_surgery</th>\n",
       "      <th>ethnicity</th>\n",
       "      <th>gender</th>\n",
       "      <th>height</th>\n",
       "      <th>...</th>\n",
       "      <th>aids</th>\n",
       "      <th>cirrhosis</th>\n",
       "      <th>diabetes_mellitus</th>\n",
       "      <th>hepatic_failure</th>\n",
       "      <th>immunosuppression</th>\n",
       "      <th>leukemia</th>\n",
       "      <th>lymphoma</th>\n",
       "      <th>solid_tumor_with_metastasis</th>\n",
       "      <th>apache_3j_bodysystem</th>\n",
       "      <th>apache_2_bodysystem</th>\n",
       "    </tr>\n",
       "  </thead>\n",
       "  <tbody>\n",
       "    <tr>\n",
       "      <th>0</th>\n",
       "      <td>66154</td>\n",
       "      <td>25312</td>\n",
       "      <td>118</td>\n",
       "      <td>0</td>\n",
       "      <td>68.0</td>\n",
       "      <td>22.73</td>\n",
       "      <td>0</td>\n",
       "      <td>Caucasian</td>\n",
       "      <td>M</td>\n",
       "      <td>180.3</td>\n",
       "      <td>...</td>\n",
       "      <td>0.0</td>\n",
       "      <td>0.0</td>\n",
       "      <td>1.0</td>\n",
       "      <td>0.0</td>\n",
       "      <td>0.0</td>\n",
       "      <td>0.0</td>\n",
       "      <td>0.0</td>\n",
       "      <td>0.0</td>\n",
       "      <td>Sepsis</td>\n",
       "      <td>Cardiovascular</td>\n",
       "    </tr>\n",
       "    <tr>\n",
       "      <th>1</th>\n",
       "      <td>114252</td>\n",
       "      <td>59342</td>\n",
       "      <td>81</td>\n",
       "      <td>0</td>\n",
       "      <td>77.0</td>\n",
       "      <td>27.42</td>\n",
       "      <td>0</td>\n",
       "      <td>Caucasian</td>\n",
       "      <td>F</td>\n",
       "      <td>160.0</td>\n",
       "      <td>...</td>\n",
       "      <td>0.0</td>\n",
       "      <td>0.0</td>\n",
       "      <td>1.0</td>\n",
       "      <td>0.0</td>\n",
       "      <td>0.0</td>\n",
       "      <td>0.0</td>\n",
       "      <td>0.0</td>\n",
       "      <td>0.0</td>\n",
       "      <td>Respiratory</td>\n",
       "      <td>Respiratory</td>\n",
       "    </tr>\n",
       "    <tr>\n",
       "      <th>2</th>\n",
       "      <td>119783</td>\n",
       "      <td>50777</td>\n",
       "      <td>118</td>\n",
       "      <td>0</td>\n",
       "      <td>25.0</td>\n",
       "      <td>31.95</td>\n",
       "      <td>0</td>\n",
       "      <td>Caucasian</td>\n",
       "      <td>F</td>\n",
       "      <td>172.7</td>\n",
       "      <td>...</td>\n",
       "      <td>0.0</td>\n",
       "      <td>0.0</td>\n",
       "      <td>0.0</td>\n",
       "      <td>0.0</td>\n",
       "      <td>0.0</td>\n",
       "      <td>0.0</td>\n",
       "      <td>0.0</td>\n",
       "      <td>0.0</td>\n",
       "      <td>Metabolic</td>\n",
       "      <td>Metabolic</td>\n",
       "    </tr>\n",
       "    <tr>\n",
       "      <th>3</th>\n",
       "      <td>79267</td>\n",
       "      <td>46918</td>\n",
       "      <td>118</td>\n",
       "      <td>0</td>\n",
       "      <td>81.0</td>\n",
       "      <td>22.64</td>\n",
       "      <td>1</td>\n",
       "      <td>Caucasian</td>\n",
       "      <td>F</td>\n",
       "      <td>165.1</td>\n",
       "      <td>...</td>\n",
       "      <td>0.0</td>\n",
       "      <td>0.0</td>\n",
       "      <td>0.0</td>\n",
       "      <td>0.0</td>\n",
       "      <td>0.0</td>\n",
       "      <td>0.0</td>\n",
       "      <td>0.0</td>\n",
       "      <td>0.0</td>\n",
       "      <td>Cardiovascular</td>\n",
       "      <td>Cardiovascular</td>\n",
       "    </tr>\n",
       "    <tr>\n",
       "      <th>4</th>\n",
       "      <td>92056</td>\n",
       "      <td>34377</td>\n",
       "      <td>33</td>\n",
       "      <td>0</td>\n",
       "      <td>19.0</td>\n",
       "      <td>NaN</td>\n",
       "      <td>0</td>\n",
       "      <td>Caucasian</td>\n",
       "      <td>M</td>\n",
       "      <td>188.0</td>\n",
       "      <td>...</td>\n",
       "      <td>0.0</td>\n",
       "      <td>0.0</td>\n",
       "      <td>0.0</td>\n",
       "      <td>0.0</td>\n",
       "      <td>0.0</td>\n",
       "      <td>0.0</td>\n",
       "      <td>0.0</td>\n",
       "      <td>0.0</td>\n",
       "      <td>Trauma</td>\n",
       "      <td>Trauma</td>\n",
       "    </tr>\n",
       "  </tbody>\n",
       "</table>\n",
       "<p>5 rows × 186 columns</p>\n",
       "</div>"
      ],
      "text/plain": [
       "   encounter_id  patient_id  hospital_id  hospital_death   age    bmi  \\\n",
       "0         66154       25312          118               0  68.0  22.73   \n",
       "1        114252       59342           81               0  77.0  27.42   \n",
       "2        119783       50777          118               0  25.0  31.95   \n",
       "3         79267       46918          118               0  81.0  22.64   \n",
       "4         92056       34377           33               0  19.0    NaN   \n",
       "\n",
       "   elective_surgery  ethnicity gender  height  ... aids cirrhosis  \\\n",
       "0                 0  Caucasian      M   180.3  ...  0.0       0.0   \n",
       "1                 0  Caucasian      F   160.0  ...  0.0       0.0   \n",
       "2                 0  Caucasian      F   172.7  ...  0.0       0.0   \n",
       "3                 1  Caucasian      F   165.1  ...  0.0       0.0   \n",
       "4                 0  Caucasian      M   188.0  ...  0.0       0.0   \n",
       "\n",
       "   diabetes_mellitus hepatic_failure immunosuppression  leukemia  lymphoma  \\\n",
       "0                1.0             0.0               0.0       0.0       0.0   \n",
       "1                1.0             0.0               0.0       0.0       0.0   \n",
       "2                0.0             0.0               0.0       0.0       0.0   \n",
       "3                0.0             0.0               0.0       0.0       0.0   \n",
       "4                0.0             0.0               0.0       0.0       0.0   \n",
       "\n",
       "   solid_tumor_with_metastasis  apache_3j_bodysystem  apache_2_bodysystem  \n",
       "0                          0.0                Sepsis       Cardiovascular  \n",
       "1                          0.0           Respiratory          Respiratory  \n",
       "2                          0.0             Metabolic            Metabolic  \n",
       "3                          0.0        Cardiovascular       Cardiovascular  \n",
       "4                          0.0                Trauma               Trauma  \n",
       "\n",
       "[5 rows x 186 columns]"
      ]
     },
     "execution_count": 29,
     "metadata": {},
     "output_type": "execute_result"
    }
   ],
   "source": [
    "df.head()"
   ]
  },
  {
   "cell_type": "code",
   "execution_count": 30,
   "id": "65e04065",
   "metadata": {},
   "outputs": [
    {
     "data": {
      "text/plain": [
       "<bound method DataFrame.info of        encounter_id  patient_id  hospital_id  hospital_death   age        bmi  \\\n",
       "0             66154       25312          118               0  68.0  22.730000   \n",
       "1            114252       59342           81               0  77.0  27.420000   \n",
       "2            119783       50777          118               0  25.0  31.950000   \n",
       "3             79267       46918          118               0  81.0  22.640000   \n",
       "4             92056       34377           33               0  19.0        NaN   \n",
       "...             ...         ...          ...             ...   ...        ...   \n",
       "91708         91592       78108           30               0  75.0  23.060250   \n",
       "91709         66119       13486          121               0  56.0  47.179671   \n",
       "91710          8981       58179          195               0  48.0  27.236914   \n",
       "91711         33776      120598           66               0   NaN  23.297481   \n",
       "91712          1671       53612          104               0  82.0  22.031250   \n",
       "\n",
       "       elective_surgery  ethnicity gender  height  ... aids cirrhosis  \\\n",
       "0                     0  Caucasian      M   180.3  ...  0.0       0.0   \n",
       "1                     0  Caucasian      F   160.0  ...  0.0       0.0   \n",
       "2                     0  Caucasian      F   172.7  ...  0.0       0.0   \n",
       "3                     1  Caucasian      F   165.1  ...  0.0       0.0   \n",
       "4                     0  Caucasian      M   188.0  ...  0.0       0.0   \n",
       "...                 ...        ...    ...     ...  ...  ...       ...   \n",
       "91708                 0  Caucasian      M   177.8  ...  0.0       0.0   \n",
       "91709                 0  Caucasian      F   183.0  ...  0.0       0.0   \n",
       "91710                 0  Caucasian      M   170.2  ...  0.0       0.0   \n",
       "91711                 0  Caucasian      F   154.9  ...  0.0       0.0   \n",
       "91712                 1  Caucasian      F   160.0  ...  0.0       0.0   \n",
       "\n",
       "       diabetes_mellitus hepatic_failure immunosuppression  leukemia  \\\n",
       "0                    1.0             0.0               0.0       0.0   \n",
       "1                    1.0             0.0               0.0       0.0   \n",
       "2                    0.0             0.0               0.0       0.0   \n",
       "3                    0.0             0.0               0.0       0.0   \n",
       "4                    0.0             0.0               0.0       0.0   \n",
       "...                  ...             ...               ...       ...   \n",
       "91708                1.0             0.0               0.0       0.0   \n",
       "91709                0.0             0.0               0.0       0.0   \n",
       "91710                1.0             0.0               0.0       0.0   \n",
       "91711                0.0             0.0               0.0       0.0   \n",
       "91712                0.0             0.0               0.0       0.0   \n",
       "\n",
       "       lymphoma  solid_tumor_with_metastasis  apache_3j_bodysystem  \\\n",
       "0           0.0                          0.0                Sepsis   \n",
       "1           0.0                          0.0           Respiratory   \n",
       "2           0.0                          0.0             Metabolic   \n",
       "3           0.0                          0.0        Cardiovascular   \n",
       "4           0.0                          0.0                Trauma   \n",
       "...         ...                          ...                   ...   \n",
       "91708       0.0                          1.0                Sepsis   \n",
       "91709       0.0                          0.0                Sepsis   \n",
       "91710       0.0                          0.0             Metabolic   \n",
       "91711       0.0                          0.0           Respiratory   \n",
       "91712       0.0                          0.0      Gastrointestinal   \n",
       "\n",
       "       apache_2_bodysystem  \n",
       "0           Cardiovascular  \n",
       "1              Respiratory  \n",
       "2                Metabolic  \n",
       "3           Cardiovascular  \n",
       "4                   Trauma  \n",
       "...                    ...  \n",
       "91708       Cardiovascular  \n",
       "91709       Cardiovascular  \n",
       "91710            Metabolic  \n",
       "91711          Respiratory  \n",
       "91712     Gastrointestinal  \n",
       "\n",
       "[91713 rows x 186 columns]>"
      ]
     },
     "execution_count": 30,
     "metadata": {},
     "output_type": "execute_result"
    }
   ],
   "source": [
    "df.info"
   ]
  },
  {
   "cell_type": "code",
   "execution_count": 31,
   "id": "e1c80da9",
   "metadata": {},
   "outputs": [
    {
     "data": {
      "text/plain": [
       "(91713, 186)"
      ]
     },
     "execution_count": 31,
     "metadata": {},
     "output_type": "execute_result"
    }
   ],
   "source": [
    "df.shape"
   ]
  },
  {
   "cell_type": "code",
   "execution_count": 32,
   "id": "50e854d6",
   "metadata": {},
   "outputs": [
    {
     "data": {
      "text/plain": [
       "Index(['encounter_id', 'patient_id', 'hospital_id', 'hospital_death', 'age',\n",
       "       'bmi', 'elective_surgery', 'ethnicity', 'gender', 'height',\n",
       "       ...\n",
       "       'aids', 'cirrhosis', 'diabetes_mellitus', 'hepatic_failure',\n",
       "       'immunosuppression', 'leukemia', 'lymphoma',\n",
       "       'solid_tumor_with_metastasis', 'apache_3j_bodysystem',\n",
       "       'apache_2_bodysystem'],\n",
       "      dtype='object', length=186)"
      ]
     },
     "execution_count": 32,
     "metadata": {},
     "output_type": "execute_result"
    }
   ],
   "source": [
    "df.columns"
   ]
  },
  {
   "cell_type": "code",
   "execution_count": 33,
   "id": "3331e521",
   "metadata": {},
   "outputs": [
    {
     "data": {
      "text/plain": [
       "encounter_id                      0\n",
       "patient_id                        0\n",
       "hospital_id                       0\n",
       "hospital_death                    0\n",
       "age                            4228\n",
       "                               ... \n",
       "leukemia                        715\n",
       "lymphoma                        715\n",
       "solid_tumor_with_metastasis     715\n",
       "apache_3j_bodysystem           1662\n",
       "apache_2_bodysystem            1662\n",
       "Length: 186, dtype: int64"
      ]
     },
     "execution_count": 33,
     "metadata": {},
     "output_type": "execute_result"
    }
   ],
   "source": [
    "#returns the total number of missing values in the data set\n",
    "df.isnull().sum()"
   ]
  },
  {
   "cell_type": "code",
   "execution_count": 34,
   "id": "5817e8a4",
   "metadata": {},
   "outputs": [
    {
     "data": {
      "text/html": [
       "<div>\n",
       "<style scoped>\n",
       "    .dataframe tbody tr th:only-of-type {\n",
       "        vertical-align: middle;\n",
       "    }\n",
       "\n",
       "    .dataframe tbody tr th {\n",
       "        vertical-align: top;\n",
       "    }\n",
       "\n",
       "    .dataframe thead th {\n",
       "        text-align: right;\n",
       "    }\n",
       "</style>\n",
       "<table border=\"1\" class=\"dataframe\">\n",
       "  <thead>\n",
       "    <tr style=\"text-align: right;\">\n",
       "      <th></th>\n",
       "      <th>encounter_id</th>\n",
       "      <th>patient_id</th>\n",
       "      <th>hospital_id</th>\n",
       "      <th>hospital_death</th>\n",
       "      <th>age</th>\n",
       "      <th>bmi</th>\n",
       "      <th>elective_surgery</th>\n",
       "      <th>height</th>\n",
       "      <th>icu_id</th>\n",
       "      <th>pre_icu_los_days</th>\n",
       "      <th>...</th>\n",
       "      <th>apache_4a_hospital_death_prob</th>\n",
       "      <th>apache_4a_icu_death_prob</th>\n",
       "      <th>aids</th>\n",
       "      <th>cirrhosis</th>\n",
       "      <th>diabetes_mellitus</th>\n",
       "      <th>hepatic_failure</th>\n",
       "      <th>immunosuppression</th>\n",
       "      <th>leukemia</th>\n",
       "      <th>lymphoma</th>\n",
       "      <th>solid_tumor_with_metastasis</th>\n",
       "    </tr>\n",
       "  </thead>\n",
       "  <tbody>\n",
       "    <tr>\n",
       "      <th>count</th>\n",
       "      <td>91713</td>\n",
       "      <td>91713</td>\n",
       "      <td>91713</td>\n",
       "      <td>91713</td>\n",
       "      <td>87485</td>\n",
       "      <td>88284</td>\n",
       "      <td>91713</td>\n",
       "      <td>90379</td>\n",
       "      <td>91713</td>\n",
       "      <td>91713</td>\n",
       "      <td>...</td>\n",
       "      <td>83766</td>\n",
       "      <td>83766</td>\n",
       "      <td>90998</td>\n",
       "      <td>90998</td>\n",
       "      <td>90998</td>\n",
       "      <td>90998</td>\n",
       "      <td>90998</td>\n",
       "      <td>90998</td>\n",
       "      <td>90998</td>\n",
       "      <td>90998</td>\n",
       "    </tr>\n",
       "    <tr>\n",
       "      <th>mean</th>\n",
       "      <td>65606.1</td>\n",
       "      <td>65537.1</td>\n",
       "      <td>105.669</td>\n",
       "      <td>0.0863018</td>\n",
       "      <td>62.3095</td>\n",
       "      <td>29.1858</td>\n",
       "      <td>0.183736</td>\n",
       "      <td>169.642</td>\n",
       "      <td>508.358</td>\n",
       "      <td>0.835766</td>\n",
       "      <td>...</td>\n",
       "      <td>0.0867869</td>\n",
       "      <td>0.0439548</td>\n",
       "      <td>0.000857162</td>\n",
       "      <td>0.0156927</td>\n",
       "      <td>0.225192</td>\n",
       "      <td>0.0129893</td>\n",
       "      <td>0.0261654</td>\n",
       "      <td>0.00706609</td>\n",
       "      <td>0.00413196</td>\n",
       "      <td>0.0206378</td>\n",
       "    </tr>\n",
       "    <tr>\n",
       "      <th>std</th>\n",
       "      <td>37795.1</td>\n",
       "      <td>37811.3</td>\n",
       "      <td>62.8544</td>\n",
       "      <td>0.280811</td>\n",
       "      <td>16.7751</td>\n",
       "      <td>8.27514</td>\n",
       "      <td>0.387271</td>\n",
       "      <td>10.7954</td>\n",
       "      <td>228.99</td>\n",
       "      <td>2.48776</td>\n",
       "      <td>...</td>\n",
       "      <td>0.247569</td>\n",
       "      <td>0.217341</td>\n",
       "      <td>0.0292649</td>\n",
       "      <td>0.124284</td>\n",
       "      <td>0.417711</td>\n",
       "      <td>0.113229</td>\n",
       "      <td>0.159628</td>\n",
       "      <td>0.083763</td>\n",
       "      <td>0.0641477</td>\n",
       "      <td>0.142169</td>\n",
       "    </tr>\n",
       "    <tr>\n",
       "      <th>min</th>\n",
       "      <td>1</td>\n",
       "      <td>1</td>\n",
       "      <td>2</td>\n",
       "      <td>0</td>\n",
       "      <td>16</td>\n",
       "      <td>14.8449</td>\n",
       "      <td>0</td>\n",
       "      <td>137.2</td>\n",
       "      <td>82</td>\n",
       "      <td>-24.9472</td>\n",
       "      <td>...</td>\n",
       "      <td>-1</td>\n",
       "      <td>-1</td>\n",
       "      <td>0</td>\n",
       "      <td>0</td>\n",
       "      <td>0</td>\n",
       "      <td>0</td>\n",
       "      <td>0</td>\n",
       "      <td>0</td>\n",
       "      <td>0</td>\n",
       "      <td>0</td>\n",
       "    </tr>\n",
       "    <tr>\n",
       "      <th>25%</th>\n",
       "      <td>32852</td>\n",
       "      <td>32830</td>\n",
       "      <td>47</td>\n",
       "      <td>0</td>\n",
       "      <td>52</td>\n",
       "      <td>23.642</td>\n",
       "      <td>0</td>\n",
       "      <td>162.5</td>\n",
       "      <td>369</td>\n",
       "      <td>0.0354167</td>\n",
       "      <td>...</td>\n",
       "      <td>0.02</td>\n",
       "      <td>0.01</td>\n",
       "      <td>0</td>\n",
       "      <td>0</td>\n",
       "      <td>0</td>\n",
       "      <td>0</td>\n",
       "      <td>0</td>\n",
       "      <td>0</td>\n",
       "      <td>0</td>\n",
       "      <td>0</td>\n",
       "    </tr>\n",
       "    <tr>\n",
       "      <th>50%</th>\n",
       "      <td>65665</td>\n",
       "      <td>65413</td>\n",
       "      <td>109</td>\n",
       "      <td>0</td>\n",
       "      <td>65</td>\n",
       "      <td>27.6547</td>\n",
       "      <td>0</td>\n",
       "      <td>170.1</td>\n",
       "      <td>504</td>\n",
       "      <td>0.138889</td>\n",
       "      <td>...</td>\n",
       "      <td>0.05</td>\n",
       "      <td>0.02</td>\n",
       "      <td>0</td>\n",
       "      <td>0</td>\n",
       "      <td>0</td>\n",
       "      <td>0</td>\n",
       "      <td>0</td>\n",
       "      <td>0</td>\n",
       "      <td>0</td>\n",
       "      <td>0</td>\n",
       "    </tr>\n",
       "    <tr>\n",
       "      <th>75%</th>\n",
       "      <td>98342</td>\n",
       "      <td>98298</td>\n",
       "      <td>161</td>\n",
       "      <td>0</td>\n",
       "      <td>75</td>\n",
       "      <td>32.9302</td>\n",
       "      <td>0</td>\n",
       "      <td>177.8</td>\n",
       "      <td>679</td>\n",
       "      <td>0.409028</td>\n",
       "      <td>...</td>\n",
       "      <td>0.13</td>\n",
       "      <td>0.06</td>\n",
       "      <td>0</td>\n",
       "      <td>0</td>\n",
       "      <td>0</td>\n",
       "      <td>0</td>\n",
       "      <td>0</td>\n",
       "      <td>0</td>\n",
       "      <td>0</td>\n",
       "      <td>0</td>\n",
       "    </tr>\n",
       "    <tr>\n",
       "      <th>max</th>\n",
       "      <td>131051</td>\n",
       "      <td>131051</td>\n",
       "      <td>204</td>\n",
       "      <td>1</td>\n",
       "      <td>89</td>\n",
       "      <td>67.815</td>\n",
       "      <td>1</td>\n",
       "      <td>195.59</td>\n",
       "      <td>927</td>\n",
       "      <td>159.091</td>\n",
       "      <td>...</td>\n",
       "      <td>0.99</td>\n",
       "      <td>0.97</td>\n",
       "      <td>1</td>\n",
       "      <td>1</td>\n",
       "      <td>1</td>\n",
       "      <td>1</td>\n",
       "      <td>1</td>\n",
       "      <td>1</td>\n",
       "      <td>1</td>\n",
       "      <td>1</td>\n",
       "    </tr>\n",
       "  </tbody>\n",
       "</table>\n",
       "<p>8 rows × 178 columns</p>\n",
       "</div>"
      ],
      "text/plain": [
       "      encounter_id patient_id hospital_id hospital_death      age      bmi  \\\n",
       "count        91713      91713       91713          91713    87485    88284   \n",
       "mean       65606.1    65537.1     105.669      0.0863018  62.3095  29.1858   \n",
       "std        37795.1    37811.3     62.8544       0.280811  16.7751  8.27514   \n",
       "min              1          1           2              0       16  14.8449   \n",
       "25%          32852      32830          47              0       52   23.642   \n",
       "50%          65665      65413         109              0       65  27.6547   \n",
       "75%          98342      98298         161              0       75  32.9302   \n",
       "max         131051     131051         204              1       89   67.815   \n",
       "\n",
       "      elective_surgery   height   icu_id pre_icu_los_days  ...  \\\n",
       "count            91713    90379    91713            91713  ...   \n",
       "mean          0.183736  169.642  508.358         0.835766  ...   \n",
       "std           0.387271  10.7954   228.99          2.48776  ...   \n",
       "min                  0    137.2       82         -24.9472  ...   \n",
       "25%                  0    162.5      369        0.0354167  ...   \n",
       "50%                  0    170.1      504         0.138889  ...   \n",
       "75%                  0    177.8      679         0.409028  ...   \n",
       "max                  1   195.59      927          159.091  ...   \n",
       "\n",
       "      apache_4a_hospital_death_prob apache_4a_icu_death_prob         aids  \\\n",
       "count                         83766                    83766        90998   \n",
       "mean                      0.0867869                0.0439548  0.000857162   \n",
       "std                        0.247569                 0.217341    0.0292649   \n",
       "min                              -1                       -1            0   \n",
       "25%                            0.02                     0.01            0   \n",
       "50%                            0.05                     0.02            0   \n",
       "75%                            0.13                     0.06            0   \n",
       "max                            0.99                     0.97            1   \n",
       "\n",
       "       cirrhosis diabetes_mellitus hepatic_failure immunosuppression  \\\n",
       "count      90998             90998           90998             90998   \n",
       "mean   0.0156927          0.225192       0.0129893         0.0261654   \n",
       "std     0.124284          0.417711        0.113229          0.159628   \n",
       "min            0                 0               0                 0   \n",
       "25%            0                 0               0                 0   \n",
       "50%            0                 0               0                 0   \n",
       "75%            0                 0               0                 0   \n",
       "max            1                 1               1                 1   \n",
       "\n",
       "         leukemia    lymphoma solid_tumor_with_metastasis  \n",
       "count       90998       90998                       90998  \n",
       "mean   0.00706609  0.00413196                   0.0206378  \n",
       "std      0.083763   0.0641477                    0.142169  \n",
       "min             0           0                           0  \n",
       "25%             0           0                           0  \n",
       "50%             0           0                           0  \n",
       "75%             0           0                           0  \n",
       "max             1           1                           1  \n",
       "\n",
       "[8 rows x 178 columns]"
      ]
     },
     "execution_count": 34,
     "metadata": {},
     "output_type": "execute_result"
    }
   ],
   "source": [
    "#descriptive statistics: lambda, format, g= general\n",
    "df.describe().apply(lambda s: s.apply(lambda x: format(x, 'g')))"
   ]
  },
  {
   "cell_type": "code",
   "execution_count": 35,
   "id": "5ef5c90e",
   "metadata": {},
   "outputs": [
    {
     "data": {
      "text/plain": [
       "2049      1\n",
       "118035    1\n",
       "11567     1\n",
       "15661     1\n",
       "5416      1\n",
       "         ..\n",
       "66165     1\n",
       "78451     1\n",
       "74353     1\n",
       "76400     1\n",
       "2047      1\n",
       "Name: encounter_id, Length: 91713, dtype: int64"
      ]
     },
     "execution_count": 35,
     "metadata": {},
     "output_type": "execute_result"
    }
   ],
   "source": [
    "df['encounter_id'].value_counts()"
   ]
  },
  {
   "cell_type": "code",
   "execution_count": 36,
   "id": "3b1c8a43",
   "metadata": {
    "scrolled": true
   },
   "outputs": [
    {
     "data": {
      "text/plain": [
       "0    83798\n",
       "1     7915\n",
       "Name: hospital_death, dtype: int64"
      ]
     },
     "execution_count": 36,
     "metadata": {},
     "output_type": "execute_result"
    }
   ],
   "source": [
    "df['hospital_death'].value_counts()"
   ]
  },
  {
   "cell_type": "code",
   "execution_count": 37,
   "id": "2692e3b3",
   "metadata": {},
   "outputs": [
    {
     "data": {
      "text/plain": [
       "0    91713\n",
       "Name: readmission_status, dtype: int64"
      ]
     },
     "execution_count": 37,
     "metadata": {},
     "output_type": "execute_result"
    }
   ],
   "source": [
    "df['readmission_status'].value_counts()"
   ]
  },
  {
   "cell_type": "markdown",
   "id": "f2fa0b0d",
   "metadata": {},
   "source": [
    "## Naming columns"
   ]
  },
  {
   "cell_type": "code",
   "execution_count": 38,
   "id": "bc76ca89",
   "metadata": {},
   "outputs": [],
   "source": [
    "identifiers = df.columns[0:3] \n",
    "demographic = df.columns[4:19]\n",
    "APACHEcovariate = df.columns[20:47]\n",
    "vitals = df.columns[48:99]\n",
    "labs=df.columns[100:159]\n",
    "labsbloodgas=df.columns[160:175]\n",
    "APACHEprediction=df.columns[176:177]\n",
    "APACHEcomorbidity=df.columns[178:185]\n",
    "APACHEgrouping=df.columns[186:187]"
   ]
  },
  {
   "cell_type": "code",
   "execution_count": 39,
   "id": "9a8811da",
   "metadata": {},
   "outputs": [
    {
     "data": {
      "text/plain": [
       "Index(['encounter_id', 'patient_id', 'hospital_id'], dtype='object')"
      ]
     },
     "execution_count": 39,
     "metadata": {},
     "output_type": "execute_result"
    }
   ],
   "source": [
    "identifiers"
   ]
  },
  {
   "cell_type": "code",
   "execution_count": 40,
   "id": "308bb841",
   "metadata": {},
   "outputs": [
    {
     "data": {
      "text/plain": [
       "Index(['age', 'bmi', 'elective_surgery', 'ethnicity', 'gender', 'height',\n",
       "       'hospital_admit_source', 'icu_admit_source', 'icu_id', 'icu_stay_type',\n",
       "       'icu_type', 'pre_icu_los_days', 'readmission_status', 'weight',\n",
       "       'albumin_apache'],\n",
       "      dtype='object')"
      ]
     },
     "execution_count": 40,
     "metadata": {},
     "output_type": "execute_result"
    }
   ],
   "source": [
    "demographic"
   ]
  },
  {
   "cell_type": "code",
   "execution_count": 41,
   "id": "52d70e77",
   "metadata": {},
   "outputs": [
    {
     "data": {
      "text/plain": [
       "Index(['apache_3j_diagnosis', 'apache_post_operative', 'arf_apache',\n",
       "       'bilirubin_apache', 'bun_apache', 'creatinine_apache', 'fio2_apache',\n",
       "       'gcs_eyes_apache', 'gcs_motor_apache', 'gcs_unable_apache',\n",
       "       'gcs_verbal_apache', 'glucose_apache', 'heart_rate_apache',\n",
       "       'hematocrit_apache', 'intubated_apache', 'map_apache', 'paco2_apache',\n",
       "       'paco2_for_ph_apache', 'pao2_apache', 'ph_apache', 'resprate_apache',\n",
       "       'sodium_apache', 'temp_apache', 'urineoutput_apache',\n",
       "       'ventilated_apache', 'wbc_apache', 'd1_diasbp_invasive_max'],\n",
       "      dtype='object')"
      ]
     },
     "execution_count": 41,
     "metadata": {},
     "output_type": "execute_result"
    }
   ],
   "source": [
    "APACHEcovariate"
   ]
  },
  {
   "cell_type": "code",
   "execution_count": 42,
   "id": "c4a2cdfc",
   "metadata": {},
   "outputs": [
    {
     "data": {
      "text/plain": [
       "Index(['d1_diasbp_max', 'd1_diasbp_min', 'd1_diasbp_noninvasive_max',\n",
       "       'd1_diasbp_noninvasive_min', 'd1_heartrate_max', 'd1_heartrate_min',\n",
       "       'd1_mbp_invasive_max', 'd1_mbp_invasive_min', 'd1_mbp_max',\n",
       "       'd1_mbp_min', 'd1_mbp_noninvasive_max', 'd1_mbp_noninvasive_min',\n",
       "       'd1_resprate_max', 'd1_resprate_min', 'd1_spo2_max', 'd1_spo2_min',\n",
       "       'd1_sysbp_invasive_max', 'd1_sysbp_invasive_min', 'd1_sysbp_max',\n",
       "       'd1_sysbp_min', 'd1_sysbp_noninvasive_max', 'd1_sysbp_noninvasive_min',\n",
       "       'd1_temp_max', 'd1_temp_min', 'h1_diasbp_invasive_max',\n",
       "       'h1_diasbp_invasive_min', 'h1_diasbp_max', 'h1_diasbp_min',\n",
       "       'h1_diasbp_noninvasive_max', 'h1_diasbp_noninvasive_min',\n",
       "       'h1_heartrate_max', 'h1_heartrate_min', 'h1_mbp_invasive_max',\n",
       "       'h1_mbp_invasive_min', 'h1_mbp_max', 'h1_mbp_min',\n",
       "       'h1_mbp_noninvasive_max', 'h1_mbp_noninvasive_min', 'h1_resprate_max',\n",
       "       'h1_resprate_min', 'h1_spo2_max', 'h1_spo2_min',\n",
       "       'h1_sysbp_invasive_max', 'h1_sysbp_invasive_min', 'h1_sysbp_max',\n",
       "       'h1_sysbp_min', 'h1_sysbp_noninvasive_max', 'h1_sysbp_noninvasive_min',\n",
       "       'h1_temp_max', 'h1_temp_min', 'd1_albumin_max'],\n",
       "      dtype='object')"
      ]
     },
     "execution_count": 42,
     "metadata": {},
     "output_type": "execute_result"
    }
   ],
   "source": [
    "vitals"
   ]
  },
  {
   "cell_type": "code",
   "execution_count": 43,
   "id": "fd3e02df",
   "metadata": {},
   "outputs": [
    {
     "data": {
      "text/plain": [
       "Index(['d1_arterial_ph_max', 'd1_arterial_ph_min', 'd1_arterial_po2_max',\n",
       "       'd1_arterial_po2_min', 'd1_pao2fio2ratio_max', 'd1_pao2fio2ratio_min',\n",
       "       'h1_arterial_pco2_max', 'h1_arterial_pco2_min', 'h1_arterial_ph_max',\n",
       "       'h1_arterial_ph_min', 'h1_arterial_po2_max', 'h1_arterial_po2_min',\n",
       "       'h1_pao2fio2ratio_max', 'h1_pao2fio2ratio_min',\n",
       "       'apache_4a_hospital_death_prob'],\n",
       "      dtype='object')"
      ]
     },
     "execution_count": 43,
     "metadata": {},
     "output_type": "execute_result"
    }
   ],
   "source": [
    "labsbloodgas"
   ]
  },
  {
   "cell_type": "code",
   "execution_count": 44,
   "id": "94923dd4",
   "metadata": {},
   "outputs": [
    {
     "data": {
      "text/plain": [
       "0               CTICU\n",
       "1        Med-Surg ICU\n",
       "2        Med-Surg ICU\n",
       "3               CTICU\n",
       "4        Med-Surg ICU\n",
       "             ...     \n",
       "91708     Cardiac ICU\n",
       "91709    Med-Surg ICU\n",
       "91710    Med-Surg ICU\n",
       "91711    Med-Surg ICU\n",
       "91712    Med-Surg ICU\n",
       "Name: icu_type, Length: 91713, dtype: object"
      ]
     },
     "execution_count": 44,
     "metadata": {},
     "output_type": "execute_result"
    }
   ],
   "source": [
    "df['icu_type']"
   ]
  },
  {
   "cell_type": "code",
   "execution_count": 45,
   "id": "3cee55ce",
   "metadata": {},
   "outputs": [
    {
     "data": {
      "text/html": [
       "<div>\n",
       "<style scoped>\n",
       "    .dataframe tbody tr th:only-of-type {\n",
       "        vertical-align: middle;\n",
       "    }\n",
       "\n",
       "    .dataframe tbody tr th {\n",
       "        vertical-align: top;\n",
       "    }\n",
       "\n",
       "    .dataframe thead th {\n",
       "        text-align: right;\n",
       "    }\n",
       "</style>\n",
       "<table border=\"1\" class=\"dataframe\">\n",
       "  <thead>\n",
       "    <tr style=\"text-align: right;\">\n",
       "      <th></th>\n",
       "      <th>encounter_id</th>\n",
       "      <th>patient_id</th>\n",
       "      <th>hospital_id</th>\n",
       "      <th>hospital_death</th>\n",
       "      <th>age</th>\n",
       "      <th>bmi</th>\n",
       "      <th>elective_surgery</th>\n",
       "      <th>height</th>\n",
       "      <th>icu_id</th>\n",
       "      <th>pre_icu_los_days</th>\n",
       "      <th>...</th>\n",
       "      <th>apache_4a_hospital_death_prob</th>\n",
       "      <th>apache_4a_icu_death_prob</th>\n",
       "      <th>aids</th>\n",
       "      <th>cirrhosis</th>\n",
       "      <th>diabetes_mellitus</th>\n",
       "      <th>hepatic_failure</th>\n",
       "      <th>immunosuppression</th>\n",
       "      <th>leukemia</th>\n",
       "      <th>lymphoma</th>\n",
       "      <th>solid_tumor_with_metastasis</th>\n",
       "    </tr>\n",
       "  </thead>\n",
       "  <tbody>\n",
       "    <tr>\n",
       "      <th>encounter_id</th>\n",
       "      <td>1.000000</td>\n",
       "      <td>-0.009575</td>\n",
       "      <td>-0.004532</td>\n",
       "      <td>-0.005243</td>\n",
       "      <td>-0.003990</td>\n",
       "      <td>-0.001068</td>\n",
       "      <td>0.002036</td>\n",
       "      <td>-0.005400</td>\n",
       "      <td>-0.000992</td>\n",
       "      <td>-0.000570</td>\n",
       "      <td>...</td>\n",
       "      <td>-0.000513</td>\n",
       "      <td>0.000344</td>\n",
       "      <td>0.001907</td>\n",
       "      <td>0.007601</td>\n",
       "      <td>0.003402</td>\n",
       "      <td>-0.000972</td>\n",
       "      <td>-0.001707</td>\n",
       "      <td>-0.002172</td>\n",
       "      <td>-0.001176</td>\n",
       "      <td>-0.004646</td>\n",
       "    </tr>\n",
       "    <tr>\n",
       "      <th>patient_id</th>\n",
       "      <td>-0.009575</td>\n",
       "      <td>1.000000</td>\n",
       "      <td>-0.007075</td>\n",
       "      <td>0.004877</td>\n",
       "      <td>0.006343</td>\n",
       "      <td>-0.001380</td>\n",
       "      <td>0.001387</td>\n",
       "      <td>0.002902</td>\n",
       "      <td>-0.001770</td>\n",
       "      <td>-0.004412</td>\n",
       "      <td>...</td>\n",
       "      <td>0.003735</td>\n",
       "      <td>0.001625</td>\n",
       "      <td>-0.002426</td>\n",
       "      <td>0.001307</td>\n",
       "      <td>0.000434</td>\n",
       "      <td>-0.001667</td>\n",
       "      <td>0.000548</td>\n",
       "      <td>0.000844</td>\n",
       "      <td>0.002333</td>\n",
       "      <td>-0.003065</td>\n",
       "    </tr>\n",
       "    <tr>\n",
       "      <th>hospital_id</th>\n",
       "      <td>-0.004532</td>\n",
       "      <td>-0.007075</td>\n",
       "      <td>1.000000</td>\n",
       "      <td>-0.001255</td>\n",
       "      <td>-0.008673</td>\n",
       "      <td>0.012874</td>\n",
       "      <td>0.052123</td>\n",
       "      <td>0.027895</td>\n",
       "      <td>0.004526</td>\n",
       "      <td>-0.001285</td>\n",
       "      <td>...</td>\n",
       "      <td>-0.006993</td>\n",
       "      <td>-0.000283</td>\n",
       "      <td>-0.004947</td>\n",
       "      <td>0.002962</td>\n",
       "      <td>0.011978</td>\n",
       "      <td>0.001362</td>\n",
       "      <td>0.000146</td>\n",
       "      <td>-0.002992</td>\n",
       "      <td>0.002588</td>\n",
       "      <td>-0.004730</td>\n",
       "    </tr>\n",
       "    <tr>\n",
       "      <th>hospital_death</th>\n",
       "      <td>-0.005243</td>\n",
       "      <td>0.004877</td>\n",
       "      <td>-0.001255</td>\n",
       "      <td>1.000000</td>\n",
       "      <td>0.111017</td>\n",
       "      <td>-0.031247</td>\n",
       "      <td>-0.093574</td>\n",
       "      <td>-0.019526</td>\n",
       "      <td>0.000994</td>\n",
       "      <td>0.063316</td>\n",
       "      <td>...</td>\n",
       "      <td>0.311043</td>\n",
       "      <td>0.283913</td>\n",
       "      <td>0.004403</td>\n",
       "      <td>0.039453</td>\n",
       "      <td>-0.015784</td>\n",
       "      <td>0.038864</td>\n",
       "      <td>0.043973</td>\n",
       "      <td>0.029788</td>\n",
       "      <td>0.018722</td>\n",
       "      <td>0.051105</td>\n",
       "    </tr>\n",
       "    <tr>\n",
       "      <th>age</th>\n",
       "      <td>-0.003990</td>\n",
       "      <td>0.006343</td>\n",
       "      <td>-0.008673</td>\n",
       "      <td>0.111017</td>\n",
       "      <td>1.000000</td>\n",
       "      <td>-0.087077</td>\n",
       "      <td>0.067320</td>\n",
       "      <td>-0.109937</td>\n",
       "      <td>-0.024257</td>\n",
       "      <td>0.049872</td>\n",
       "      <td>...</td>\n",
       "      <td>0.143167</td>\n",
       "      <td>0.076275</td>\n",
       "      <td>-0.029477</td>\n",
       "      <td>-0.028065</td>\n",
       "      <td>0.077908</td>\n",
       "      <td>-0.020061</td>\n",
       "      <td>0.025007</td>\n",
       "      <td>0.030310</td>\n",
       "      <td>0.023335</td>\n",
       "      <td>0.025924</td>\n",
       "    </tr>\n",
       "    <tr>\n",
       "      <th>...</th>\n",
       "      <td>...</td>\n",
       "      <td>...</td>\n",
       "      <td>...</td>\n",
       "      <td>...</td>\n",
       "      <td>...</td>\n",
       "      <td>...</td>\n",
       "      <td>...</td>\n",
       "      <td>...</td>\n",
       "      <td>...</td>\n",
       "      <td>...</td>\n",
       "      <td>...</td>\n",
       "      <td>...</td>\n",
       "      <td>...</td>\n",
       "      <td>...</td>\n",
       "      <td>...</td>\n",
       "      <td>...</td>\n",
       "      <td>...</td>\n",
       "      <td>...</td>\n",
       "      <td>...</td>\n",
       "      <td>...</td>\n",
       "      <td>...</td>\n",
       "    </tr>\n",
       "    <tr>\n",
       "      <th>hepatic_failure</th>\n",
       "      <td>-0.000972</td>\n",
       "      <td>-0.001667</td>\n",
       "      <td>0.001362</td>\n",
       "      <td>0.038864</td>\n",
       "      <td>-0.020061</td>\n",
       "      <td>-0.001855</td>\n",
       "      <td>-0.034700</td>\n",
       "      <td>0.010481</td>\n",
       "      <td>-0.011746</td>\n",
       "      <td>0.015063</td>\n",
       "      <td>...</td>\n",
       "      <td>0.024115</td>\n",
       "      <td>0.026941</td>\n",
       "      <td>0.003273</td>\n",
       "      <td>0.525905</td>\n",
       "      <td>0.010647</td>\n",
       "      <td>1.000000</td>\n",
       "      <td>0.003084</td>\n",
       "      <td>-0.001567</td>\n",
       "      <td>0.001689</td>\n",
       "      <td>0.007240</td>\n",
       "    </tr>\n",
       "    <tr>\n",
       "      <th>immunosuppression</th>\n",
       "      <td>-0.001707</td>\n",
       "      <td>0.000548</td>\n",
       "      <td>0.000146</td>\n",
       "      <td>0.043973</td>\n",
       "      <td>0.025007</td>\n",
       "      <td>-0.031144</td>\n",
       "      <td>-0.014695</td>\n",
       "      <td>0.000530</td>\n",
       "      <td>-0.031111</td>\n",
       "      <td>0.032695</td>\n",
       "      <td>...</td>\n",
       "      <td>0.038922</td>\n",
       "      <td>0.026268</td>\n",
       "      <td>0.025781</td>\n",
       "      <td>-0.002971</td>\n",
       "      <td>-0.002502</td>\n",
       "      <td>0.003084</td>\n",
       "      <td>1.000000</td>\n",
       "      <td>0.134934</td>\n",
       "      <td>0.103201</td>\n",
       "      <td>0.269653</td>\n",
       "    </tr>\n",
       "    <tr>\n",
       "      <th>leukemia</th>\n",
       "      <td>-0.002172</td>\n",
       "      <td>0.000844</td>\n",
       "      <td>-0.002992</td>\n",
       "      <td>0.029788</td>\n",
       "      <td>0.030310</td>\n",
       "      <td>-0.013375</td>\n",
       "      <td>-0.017587</td>\n",
       "      <td>0.001718</td>\n",
       "      <td>0.001014</td>\n",
       "      <td>0.041853</td>\n",
       "      <td>...</td>\n",
       "      <td>0.044126</td>\n",
       "      <td>0.031966</td>\n",
       "      <td>-0.002471</td>\n",
       "      <td>-0.005373</td>\n",
       "      <td>0.002890</td>\n",
       "      <td>-0.001567</td>\n",
       "      <td>0.134934</td>\n",
       "      <td>1.000000</td>\n",
       "      <td>0.031380</td>\n",
       "      <td>0.006210</td>\n",
       "    </tr>\n",
       "    <tr>\n",
       "      <th>lymphoma</th>\n",
       "      <td>-0.001176</td>\n",
       "      <td>0.002333</td>\n",
       "      <td>0.002588</td>\n",
       "      <td>0.018722</td>\n",
       "      <td>0.023335</td>\n",
       "      <td>-0.010017</td>\n",
       "      <td>-0.008215</td>\n",
       "      <td>0.008370</td>\n",
       "      <td>-0.002336</td>\n",
       "      <td>0.013954</td>\n",
       "      <td>...</td>\n",
       "      <td>0.018303</td>\n",
       "      <td>0.011287</td>\n",
       "      <td>0.021529</td>\n",
       "      <td>0.001516</td>\n",
       "      <td>-0.002326</td>\n",
       "      <td>0.001689</td>\n",
       "      <td>0.103201</td>\n",
       "      <td>0.031380</td>\n",
       "      <td>1.000000</td>\n",
       "      <td>0.014749</td>\n",
       "    </tr>\n",
       "    <tr>\n",
       "      <th>solid_tumor_with_metastasis</th>\n",
       "      <td>-0.004646</td>\n",
       "      <td>-0.003065</td>\n",
       "      <td>-0.004730</td>\n",
       "      <td>0.051105</td>\n",
       "      <td>0.025924</td>\n",
       "      <td>-0.043380</td>\n",
       "      <td>0.015369</td>\n",
       "      <td>0.004921</td>\n",
       "      <td>-0.014381</td>\n",
       "      <td>0.036581</td>\n",
       "      <td>...</td>\n",
       "      <td>0.048300</td>\n",
       "      <td>0.028090</td>\n",
       "      <td>-0.001611</td>\n",
       "      <td>-0.005890</td>\n",
       "      <td>-0.013122</td>\n",
       "      <td>0.007240</td>\n",
       "      <td>0.269653</td>\n",
       "      <td>0.006210</td>\n",
       "      <td>0.014749</td>\n",
       "      <td>1.000000</td>\n",
       "    </tr>\n",
       "  </tbody>\n",
       "</table>\n",
       "<p>178 rows × 178 columns</p>\n",
       "</div>"
      ],
      "text/plain": [
       "                             encounter_id  patient_id  hospital_id  \\\n",
       "encounter_id                     1.000000   -0.009575    -0.004532   \n",
       "patient_id                      -0.009575    1.000000    -0.007075   \n",
       "hospital_id                     -0.004532   -0.007075     1.000000   \n",
       "hospital_death                  -0.005243    0.004877    -0.001255   \n",
       "age                             -0.003990    0.006343    -0.008673   \n",
       "...                                   ...         ...          ...   \n",
       "hepatic_failure                 -0.000972   -0.001667     0.001362   \n",
       "immunosuppression               -0.001707    0.000548     0.000146   \n",
       "leukemia                        -0.002172    0.000844    -0.002992   \n",
       "lymphoma                        -0.001176    0.002333     0.002588   \n",
       "solid_tumor_with_metastasis     -0.004646   -0.003065    -0.004730   \n",
       "\n",
       "                             hospital_death       age       bmi  \\\n",
       "encounter_id                      -0.005243 -0.003990 -0.001068   \n",
       "patient_id                         0.004877  0.006343 -0.001380   \n",
       "hospital_id                       -0.001255 -0.008673  0.012874   \n",
       "hospital_death                     1.000000  0.111017 -0.031247   \n",
       "age                                0.111017  1.000000 -0.087077   \n",
       "...                                     ...       ...       ...   \n",
       "hepatic_failure                    0.038864 -0.020061 -0.001855   \n",
       "immunosuppression                  0.043973  0.025007 -0.031144   \n",
       "leukemia                           0.029788  0.030310 -0.013375   \n",
       "lymphoma                           0.018722  0.023335 -0.010017   \n",
       "solid_tumor_with_metastasis        0.051105  0.025924 -0.043380   \n",
       "\n",
       "                             elective_surgery    height    icu_id  \\\n",
       "encounter_id                         0.002036 -0.005400 -0.000992   \n",
       "patient_id                           0.001387  0.002902 -0.001770   \n",
       "hospital_id                          0.052123  0.027895  0.004526   \n",
       "hospital_death                      -0.093574 -0.019526  0.000994   \n",
       "age                                  0.067320 -0.109937 -0.024257   \n",
       "...                                       ...       ...       ...   \n",
       "hepatic_failure                     -0.034700  0.010481 -0.011746   \n",
       "immunosuppression                   -0.014695  0.000530 -0.031111   \n",
       "leukemia                            -0.017587  0.001718  0.001014   \n",
       "lymphoma                            -0.008215  0.008370 -0.002336   \n",
       "solid_tumor_with_metastasis          0.015369  0.004921 -0.014381   \n",
       "\n",
       "                             pre_icu_los_days  ...  \\\n",
       "encounter_id                        -0.000570  ...   \n",
       "patient_id                          -0.004412  ...   \n",
       "hospital_id                         -0.001285  ...   \n",
       "hospital_death                       0.063316  ...   \n",
       "age                                  0.049872  ...   \n",
       "...                                       ...  ...   \n",
       "hepatic_failure                      0.015063  ...   \n",
       "immunosuppression                    0.032695  ...   \n",
       "leukemia                             0.041853  ...   \n",
       "lymphoma                             0.013954  ...   \n",
       "solid_tumor_with_metastasis          0.036581  ...   \n",
       "\n",
       "                             apache_4a_hospital_death_prob  \\\n",
       "encounter_id                                     -0.000513   \n",
       "patient_id                                        0.003735   \n",
       "hospital_id                                      -0.006993   \n",
       "hospital_death                                    0.311043   \n",
       "age                                               0.143167   \n",
       "...                                                    ...   \n",
       "hepatic_failure                                   0.024115   \n",
       "immunosuppression                                 0.038922   \n",
       "leukemia                                          0.044126   \n",
       "lymphoma                                          0.018303   \n",
       "solid_tumor_with_metastasis                       0.048300   \n",
       "\n",
       "                             apache_4a_icu_death_prob      aids  cirrhosis  \\\n",
       "encounter_id                                 0.000344  0.001907   0.007601   \n",
       "patient_id                                   0.001625 -0.002426   0.001307   \n",
       "hospital_id                                 -0.000283 -0.004947   0.002962   \n",
       "hospital_death                               0.283913  0.004403   0.039453   \n",
       "age                                          0.076275 -0.029477  -0.028065   \n",
       "...                                               ...       ...        ...   \n",
       "hepatic_failure                              0.026941  0.003273   0.525905   \n",
       "immunosuppression                            0.026268  0.025781  -0.002971   \n",
       "leukemia                                     0.031966 -0.002471  -0.005373   \n",
       "lymphoma                                     0.011287  0.021529   0.001516   \n",
       "solid_tumor_with_metastasis                  0.028090 -0.001611  -0.005890   \n",
       "\n",
       "                             diabetes_mellitus  hepatic_failure  \\\n",
       "encounter_id                          0.003402        -0.000972   \n",
       "patient_id                            0.000434        -0.001667   \n",
       "hospital_id                           0.011978         0.001362   \n",
       "hospital_death                       -0.015784         0.038864   \n",
       "age                                   0.077908        -0.020061   \n",
       "...                                        ...              ...   \n",
       "hepatic_failure                       0.010647         1.000000   \n",
       "immunosuppression                    -0.002502         0.003084   \n",
       "leukemia                              0.002890        -0.001567   \n",
       "lymphoma                             -0.002326         0.001689   \n",
       "solid_tumor_with_metastasis          -0.013122         0.007240   \n",
       "\n",
       "                             immunosuppression  leukemia  lymphoma  \\\n",
       "encounter_id                         -0.001707 -0.002172 -0.001176   \n",
       "patient_id                            0.000548  0.000844  0.002333   \n",
       "hospital_id                           0.000146 -0.002992  0.002588   \n",
       "hospital_death                        0.043973  0.029788  0.018722   \n",
       "age                                   0.025007  0.030310  0.023335   \n",
       "...                                        ...       ...       ...   \n",
       "hepatic_failure                       0.003084 -0.001567  0.001689   \n",
       "immunosuppression                     1.000000  0.134934  0.103201   \n",
       "leukemia                              0.134934  1.000000  0.031380   \n",
       "lymphoma                              0.103201  0.031380  1.000000   \n",
       "solid_tumor_with_metastasis           0.269653  0.006210  0.014749   \n",
       "\n",
       "                             solid_tumor_with_metastasis  \n",
       "encounter_id                                   -0.004646  \n",
       "patient_id                                     -0.003065  \n",
       "hospital_id                                    -0.004730  \n",
       "hospital_death                                  0.051105  \n",
       "age                                             0.025924  \n",
       "...                                                  ...  \n",
       "hepatic_failure                                 0.007240  \n",
       "immunosuppression                               0.269653  \n",
       "leukemia                                        0.006210  \n",
       "lymphoma                                        0.014749  \n",
       "solid_tumor_with_metastasis                     1.000000  \n",
       "\n",
       "[178 rows x 178 columns]"
      ]
     },
     "execution_count": 45,
     "metadata": {},
     "output_type": "execute_result"
    }
   ],
   "source": [
    "df.corr() "
   ]
  },
  {
   "cell_type": "code",
   "execution_count": 46,
   "id": "6b85a5e1",
   "metadata": {
    "scrolled": true
   },
   "outputs": [
    {
     "data": {
      "text/plain": [
       "<AxesSubplot:xlabel='hospital_death', ylabel='age'>"
      ]
     },
     "execution_count": 46,
     "metadata": {},
     "output_type": "execute_result"
    },
    {
     "data": {
      "image/png": "[encoded data removed]",
      "text/plain": [
       "<Figure size 432x288 with 1 Axes>"
      ]
     },
     "metadata": {
      "needs_background": "light"
     },
     "output_type": "display_data"
    }
   ],
   "source": [
    "sns.boxplot(x='hospital_death',y='age',data=df)"
   ]
  },
  {
   "cell_type": "code",
   "execution_count": 47,
   "id": "0f84ea32",
   "metadata": {},
   "outputs": [],
   "source": [
    "#dropping indentifiers\n",
    "df.drop(['encounter_id', 'patient_id', 'hospital_id', 'icu_id', 'readmission_status', 'elective_surgery'], axis=1, inplace=True)"
   ]
  },
  {
   "cell_type": "code",
   "execution_count": 48,
   "id": "975237f3",
   "metadata": {},
   "outputs": [
    {
     "data": {
      "text/plain": [
       "Caucasian           70684\n",
       "African American     9547\n",
       "Other/Unknown        4374\n",
       "Hispanic             3796\n",
       "Asian                1129\n",
       "Native American       788\n",
       "Name: ethnicity, dtype: int64"
      ]
     },
     "execution_count": 48,
     "metadata": {},
     "output_type": "execute_result"
    }
   ],
   "source": [
    "df['ethnicity'].value_counts()"
   ]
  },
  {
   "cell_type": "code",
   "execution_count": 49,
   "id": "e3c88d47",
   "metadata": {},
   "outputs": [],
   "source": [
    "df = pd.concat([df.drop('ethnicity', axis=1), pd.get_dummies(df['ethnicity'], drop_first=True)], axis=1)\n",
    "df = pd.concat([df.drop('gender', axis=1), pd.get_dummies(df['gender'], drop_first=True)], axis=1)\n",
    "df = pd.concat([df.drop('hospital_admit_source', axis=1), pd.get_dummies(df['hospital_admit_source'], drop_first=True)], axis=1)"
   ]
  },
  {
   "cell_type": "code",
   "execution_count": 50,
   "id": "46a6505d",
   "metadata": {},
   "outputs": [
    {
     "data": {
      "text/plain": [
       "icu_admit_source        object\n",
       "icu_stay_type           object\n",
       "icu_type                object\n",
       "apache_3j_bodysystem    object\n",
       "apache_2_bodysystem     object\n",
       "dtype: object"
      ]
     },
     "execution_count": 50,
     "metadata": {},
     "output_type": "execute_result"
    }
   ],
   "source": [
    "df.dtypes[df.dtypes == object]"
   ]
  },
  {
   "cell_type": "code",
   "execution_count": 51,
   "id": "08e815cb",
   "metadata": {},
   "outputs": [],
   "source": [
    "df = df.select_dtypes(exclude=['object'])"
   ]
  },
  {
   "cell_type": "code",
   "execution_count": 52,
   "id": "d681f5ba",
   "metadata": {},
   "outputs": [
    {
     "data": {
      "text/html": [
       "<div>\n",
       "<style scoped>\n",
       "    .dataframe tbody tr th:only-of-type {\n",
       "        vertical-align: middle;\n",
       "    }\n",
       "\n",
       "    .dataframe tbody tr th {\n",
       "        vertical-align: top;\n",
       "    }\n",
       "\n",
       "    .dataframe thead th {\n",
       "        text-align: right;\n",
       "    }\n",
       "</style>\n",
       "<table border=\"1\" class=\"dataframe\">\n",
       "  <thead>\n",
       "    <tr style=\"text-align: right;\">\n",
       "      <th></th>\n",
       "      <th>hospital_death</th>\n",
       "      <th>age</th>\n",
       "      <th>bmi</th>\n",
       "      <th>height</th>\n",
       "      <th>pre_icu_los_days</th>\n",
       "      <th>weight</th>\n",
       "      <th>albumin_apache</th>\n",
       "      <th>apache_2_diagnosis</th>\n",
       "      <th>apache_3j_diagnosis</th>\n",
       "      <th>apache_post_operative</th>\n",
       "      <th>...</th>\n",
       "      <th>ICU</th>\n",
       "      <th>ICU to SDU</th>\n",
       "      <th>Observation</th>\n",
       "      <th>Operating Room</th>\n",
       "      <th>Other</th>\n",
       "      <th>Other Hospital</th>\n",
       "      <th>Other ICU</th>\n",
       "      <th>PACU</th>\n",
       "      <th>Recovery Room</th>\n",
       "      <th>Step-Down Unit (SDU)</th>\n",
       "    </tr>\n",
       "  </thead>\n",
       "  <tbody>\n",
       "    <tr>\n",
       "      <th>count</th>\n",
       "      <td>91713.000000</td>\n",
       "      <td>87485.000000</td>\n",
       "      <td>88284.000000</td>\n",
       "      <td>90379.000000</td>\n",
       "      <td>91713.000000</td>\n",
       "      <td>88993.000000</td>\n",
       "      <td>37334.000000</td>\n",
       "      <td>90051.000000</td>\n",
       "      <td>90612.000000</td>\n",
       "      <td>91713.000000</td>\n",
       "      <td>...</td>\n",
       "      <td>91713.000000</td>\n",
       "      <td>91713.000000</td>\n",
       "      <td>91713.000000</td>\n",
       "      <td>91713.000000</td>\n",
       "      <td>91713.000000</td>\n",
       "      <td>91713.000000</td>\n",
       "      <td>91713.000000</td>\n",
       "      <td>91713.000000</td>\n",
       "      <td>91713.000000</td>\n",
       "      <td>91713.000000</td>\n",
       "    </tr>\n",
       "    <tr>\n",
       "      <th>mean</th>\n",
       "      <td>0.086302</td>\n",
       "      <td>62.309516</td>\n",
       "      <td>29.185818</td>\n",
       "      <td>169.641588</td>\n",
       "      <td>0.835766</td>\n",
       "      <td>84.028340</td>\n",
       "      <td>2.902968</td>\n",
       "      <td>185.401739</td>\n",
       "      <td>558.216377</td>\n",
       "      <td>0.201106</td>\n",
       "      <td>...</td>\n",
       "      <td>0.000382</td>\n",
       "      <td>0.000491</td>\n",
       "      <td>0.000109</td>\n",
       "      <td>0.106713</td>\n",
       "      <td>0.000076</td>\n",
       "      <td>0.017893</td>\n",
       "      <td>0.002541</td>\n",
       "      <td>0.011089</td>\n",
       "      <td>0.031577</td>\n",
       "      <td>0.012332</td>\n",
       "    </tr>\n",
       "    <tr>\n",
       "      <th>std</th>\n",
       "      <td>0.280811</td>\n",
       "      <td>16.775119</td>\n",
       "      <td>8.275142</td>\n",
       "      <td>10.795378</td>\n",
       "      <td>2.487756</td>\n",
       "      <td>25.011497</td>\n",
       "      <td>0.681863</td>\n",
       "      <td>86.050882</td>\n",
       "      <td>463.266985</td>\n",
       "      <td>0.400829</td>\n",
       "      <td>...</td>\n",
       "      <td>0.019532</td>\n",
       "      <td>0.022146</td>\n",
       "      <td>0.010442</td>\n",
       "      <td>0.308750</td>\n",
       "      <td>0.008736</td>\n",
       "      <td>0.132562</td>\n",
       "      <td>0.050340</td>\n",
       "      <td>0.104719</td>\n",
       "      <td>0.174871</td>\n",
       "      <td>0.110363</td>\n",
       "    </tr>\n",
       "    <tr>\n",
       "      <th>min</th>\n",
       "      <td>0.000000</td>\n",
       "      <td>16.000000</td>\n",
       "      <td>14.844926</td>\n",
       "      <td>137.200000</td>\n",
       "      <td>-24.947222</td>\n",
       "      <td>38.600000</td>\n",
       "      <td>1.200000</td>\n",
       "      <td>101.000000</td>\n",
       "      <td>0.010000</td>\n",
       "      <td>0.000000</td>\n",
       "      <td>...</td>\n",
       "      <td>0.000000</td>\n",
       "      <td>0.000000</td>\n",
       "      <td>0.000000</td>\n",
       "      <td>0.000000</td>\n",
       "      <td>0.000000</td>\n",
       "      <td>0.000000</td>\n",
       "      <td>0.000000</td>\n",
       "      <td>0.000000</td>\n",
       "      <td>0.000000</td>\n",
       "      <td>0.000000</td>\n",
       "    </tr>\n",
       "    <tr>\n",
       "      <th>25%</th>\n",
       "      <td>0.000000</td>\n",
       "      <td>52.000000</td>\n",
       "      <td>23.641975</td>\n",
       "      <td>162.500000</td>\n",
       "      <td>0.035417</td>\n",
       "      <td>66.800000</td>\n",
       "      <td>2.400000</td>\n",
       "      <td>113.000000</td>\n",
       "      <td>203.010000</td>\n",
       "      <td>0.000000</td>\n",
       "      <td>...</td>\n",
       "      <td>0.000000</td>\n",
       "      <td>0.000000</td>\n",
       "      <td>0.000000</td>\n",
       "      <td>0.000000</td>\n",
       "      <td>0.000000</td>\n",
       "      <td>0.000000</td>\n",
       "      <td>0.000000</td>\n",
       "      <td>0.000000</td>\n",
       "      <td>0.000000</td>\n",
       "      <td>0.000000</td>\n",
       "    </tr>\n",
       "    <tr>\n",
       "      <th>50%</th>\n",
       "      <td>0.000000</td>\n",
       "      <td>65.000000</td>\n",
       "      <td>27.654655</td>\n",
       "      <td>170.100000</td>\n",
       "      <td>0.138889</td>\n",
       "      <td>80.300000</td>\n",
       "      <td>2.900000</td>\n",
       "      <td>122.000000</td>\n",
       "      <td>409.020000</td>\n",
       "      <td>0.000000</td>\n",
       "      <td>...</td>\n",
       "      <td>0.000000</td>\n",
       "      <td>0.000000</td>\n",
       "      <td>0.000000</td>\n",
       "      <td>0.000000</td>\n",
       "      <td>0.000000</td>\n",
       "      <td>0.000000</td>\n",
       "      <td>0.000000</td>\n",
       "      <td>0.000000</td>\n",
       "      <td>0.000000</td>\n",
       "      <td>0.000000</td>\n",
       "    </tr>\n",
       "    <tr>\n",
       "      <th>75%</th>\n",
       "      <td>0.000000</td>\n",
       "      <td>75.000000</td>\n",
       "      <td>32.930206</td>\n",
       "      <td>177.800000</td>\n",
       "      <td>0.409028</td>\n",
       "      <td>97.100000</td>\n",
       "      <td>3.400000</td>\n",
       "      <td>301.000000</td>\n",
       "      <td>703.030000</td>\n",
       "      <td>0.000000</td>\n",
       "      <td>...</td>\n",
       "      <td>0.000000</td>\n",
       "      <td>0.000000</td>\n",
       "      <td>0.000000</td>\n",
       "      <td>0.000000</td>\n",
       "      <td>0.000000</td>\n",
       "      <td>0.000000</td>\n",
       "      <td>0.000000</td>\n",
       "      <td>0.000000</td>\n",
       "      <td>0.000000</td>\n",
       "      <td>0.000000</td>\n",
       "    </tr>\n",
       "    <tr>\n",
       "      <th>max</th>\n",
       "      <td>1.000000</td>\n",
       "      <td>89.000000</td>\n",
       "      <td>67.814990</td>\n",
       "      <td>195.590000</td>\n",
       "      <td>159.090972</td>\n",
       "      <td>186.000000</td>\n",
       "      <td>4.600000</td>\n",
       "      <td>308.000000</td>\n",
       "      <td>2201.050000</td>\n",
       "      <td>1.000000</td>\n",
       "      <td>...</td>\n",
       "      <td>1.000000</td>\n",
       "      <td>1.000000</td>\n",
       "      <td>1.000000</td>\n",
       "      <td>1.000000</td>\n",
       "      <td>1.000000</td>\n",
       "      <td>1.000000</td>\n",
       "      <td>1.000000</td>\n",
       "      <td>1.000000</td>\n",
       "      <td>1.000000</td>\n",
       "      <td>1.000000</td>\n",
       "    </tr>\n",
       "  </tbody>\n",
       "</table>\n",
       "<p>8 rows × 192 columns</p>\n",
       "</div>"
      ],
      "text/plain": [
       "       hospital_death           age           bmi        height  \\\n",
       "count    91713.000000  87485.000000  88284.000000  90379.000000   \n",
       "mean         0.086302     62.309516     29.185818    169.641588   \n",
       "std          0.280811     16.775119      8.275142     10.795378   \n",
       "min          0.000000     16.000000     14.844926    137.200000   \n",
       "25%          0.000000     52.000000     23.641975    162.500000   \n",
       "50%          0.000000     65.000000     27.654655    170.100000   \n",
       "75%          0.000000     75.000000     32.930206    177.800000   \n",
       "max          1.000000     89.000000     67.814990    195.590000   \n",
       "\n",
       "       pre_icu_los_days        weight  albumin_apache  apache_2_diagnosis  \\\n",
       "count      91713.000000  88993.000000    37334.000000        90051.000000   \n",
       "mean           0.835766     84.028340        2.902968          185.401739   \n",
       "std            2.487756     25.011497        0.681863           86.050882   \n",
       "min          -24.947222     38.600000        1.200000          101.000000   \n",
       "25%            0.035417     66.800000        2.400000          113.000000   \n",
       "50%            0.138889     80.300000        2.900000          122.000000   \n",
       "75%            0.409028     97.100000        3.400000          301.000000   \n",
       "max          159.090972    186.000000        4.600000          308.000000   \n",
       "\n",
       "       apache_3j_diagnosis  apache_post_operative  ...           ICU  \\\n",
       "count         90612.000000           91713.000000  ...  91713.000000   \n",
       "mean            558.216377               0.201106  ...      0.000382   \n",
       "std             463.266985               0.400829  ...      0.019532   \n",
       "min               0.010000               0.000000  ...      0.000000   \n",
       "25%             203.010000               0.000000  ...      0.000000   \n",
       "50%             409.020000               0.000000  ...      0.000000   \n",
       "75%             703.030000               0.000000  ...      0.000000   \n",
       "max            2201.050000               1.000000  ...      1.000000   \n",
       "\n",
       "         ICU to SDU   Observation  Operating Room         Other  \\\n",
       "count  91713.000000  91713.000000    91713.000000  91713.000000   \n",
       "mean       0.000491      0.000109        0.106713      0.000076   \n",
       "std        0.022146      0.010442        0.308750      0.008736   \n",
       "min        0.000000      0.000000        0.000000      0.000000   \n",
       "25%        0.000000      0.000000        0.000000      0.000000   \n",
       "50%        0.000000      0.000000        0.000000      0.000000   \n",
       "75%        0.000000      0.000000        0.000000      0.000000   \n",
       "max        1.000000      1.000000        1.000000      1.000000   \n",
       "\n",
       "       Other Hospital     Other ICU          PACU  Recovery Room  \\\n",
       "count    91713.000000  91713.000000  91713.000000   91713.000000   \n",
       "mean         0.017893      0.002541      0.011089       0.031577   \n",
       "std          0.132562      0.050340      0.104719       0.174871   \n",
       "min          0.000000      0.000000      0.000000       0.000000   \n",
       "25%          0.000000      0.000000      0.000000       0.000000   \n",
       "50%          0.000000      0.000000      0.000000       0.000000   \n",
       "75%          0.000000      0.000000      0.000000       0.000000   \n",
       "max          1.000000      1.000000      1.000000       1.000000   \n",
       "\n",
       "       Step-Down Unit (SDU)  \n",
       "count          91713.000000  \n",
       "mean               0.012332  \n",
       "std                0.110363  \n",
       "min                0.000000  \n",
       "25%                0.000000  \n",
       "50%                0.000000  \n",
       "75%                0.000000  \n",
       "max                1.000000  \n",
       "\n",
       "[8 rows x 192 columns]"
      ]
     },
     "execution_count": 52,
     "metadata": {},
     "output_type": "execute_result"
    }
   ],
   "source": [
    "df.describe()"
   ]
  },
  {
   "cell_type": "code",
   "execution_count": 53,
   "id": "c6f4d8b4",
   "metadata": {},
   "outputs": [
    {
     "data": {
      "text/plain": [
       "hospital_death             0\n",
       "age                     4228\n",
       "bmi                     3429\n",
       "height                  1334\n",
       "pre_icu_los_days           0\n",
       "                        ... \n",
       "Other Hospital             0\n",
       "Other ICU                  0\n",
       "PACU                       0\n",
       "Recovery Room              0\n",
       "Step-Down Unit (SDU)       0\n",
       "Length: 192, dtype: int64"
      ]
     },
     "execution_count": 53,
     "metadata": {},
     "output_type": "execute_result"
    }
   ],
   "source": [
    "df.isnull().sum()"
   ]
  },
  {
   "cell_type": "code",
   "execution_count": 54,
   "id": "6125c1e9",
   "metadata": {},
   "outputs": [],
   "source": [
    "age_mean = df['age'].mean()"
   ]
  },
  {
   "cell_type": "code",
   "execution_count": 55,
   "id": "1722ae14",
   "metadata": {},
   "outputs": [
    {
     "data": {
      "text/plain": [
       "<Figure size 1080x1080 with 0 Axes>"
      ]
     },
     "execution_count": 55,
     "metadata": {},
     "output_type": "execute_result"
    },
    {
     "data": {
      "image/png": "[encoded data removed]",
      "text/plain": [
       "<Figure size 432x288 with 1 Axes>"
      ]
     },
     "metadata": {
      "needs_background": "light"
     },
     "output_type": "display_data"
    },
    {
     "data": {
      "text/plain": [
       "<Figure size 1080x1080 with 0 Axes>"
      ]
     },
     "metadata": {},
     "output_type": "display_data"
    }
   ],
   "source": [
    "sns.histplot(df['age'], bins=40)\n",
    "plt.figure(figsize=(15,15))"
   ]
  },
  {
   "cell_type": "code",
   "execution_count": 57,
   "id": "93b8e256",
   "metadata": {},
   "outputs": [
    {
     "data": {
      "text/plain": [
       "<Figure size 1080x1080 with 0 Axes>"
      ]
     },
     "execution_count": 57,
     "metadata": {},
     "output_type": "execute_result"
    },
    {
     "data": {
      "image/png": "[encoded data removed]",
      "text/plain": [
       "<Figure size 432x288 with 1 Axes>"
      ]
     },
     "metadata": {
      "needs_background": "light"
     },
     "output_type": "display_data"
    },
    {
     "data": {
      "text/plain": [
       "<Figure size 1080x1080 with 0 Axes>"
      ]
     },
     "metadata": {},
     "output_type": "display_data"
    }
   ],
   "source": [
    "bmi_mean = df['bmi'].mean()\n",
    "sns.histplot(df['bmi'], bins=40)\n",
    "plt.figure(figsize=(15,15))"
   ]
  },
  {
   "cell_type": "code",
   "execution_count": 58,
   "id": "f55c9a5e",
   "metadata": {},
   "outputs": [
    {
     "data": {
      "text/plain": [
       "<Figure size 1080x1080 with 0 Axes>"
      ]
     },
     "execution_count": 58,
     "metadata": {},
     "output_type": "execute_result"
    },
    {
     "data": {
      "image/png": "[encoded data removed]",
      "text/plain": [
       "<Figure size 432x288 with 1 Axes>"
      ]
     },
     "metadata": {
      "needs_background": "light"
     },
     "output_type": "display_data"
    },
    {
     "data": {
      "text/plain": [
       "<Figure size 1080x1080 with 0 Axes>"
      ]
     },
     "metadata": {},
     "output_type": "display_data"
    }
   ],
   "source": [
    "wt_mean = df['weight'].mean()\n",
    "sns.histplot(df['weight'], bins=40)\n",
    "plt.figure(figsize=(15,15))"
   ]
  },
  {
   "cell_type": "code",
   "execution_count": 59,
   "id": "b0d65edb",
   "metadata": {},
   "outputs": [],
   "source": [
    "label_names = ['0-20', '20-30', '30-40', '40-50', '50-60', '60-70', '70-80', '80-100']\n",
    "cut_points = [0, 20, 30, 40, 50, 60, 70, 80, 100]\n",
    "df['age_group'] = pd.cut(df['age'], cut_points, labels=label_names)"
   ]
  },
  {
   "cell_type": "code",
   "execution_count": 60,
   "id": "db818ea2",
   "metadata": {},
   "outputs": [],
   "source": [
    "df = pd.concat([df.drop('age', axis=1), pd.get_dummies(df['age_group'], drop_first=True)], axis=1)\n",
    "df.drop(['age_group'], inplace=True, axis=1)"
   ]
  },
  {
   "cell_type": "code",
   "execution_count": 61,
   "id": "3d30ab3d",
   "metadata": {},
   "outputs": [
    {
     "data": {
      "text/plain": [
       "<AxesSubplot:xlabel='apache_4a_hospital_death_prob', ylabel='Count'>"
      ]
     },
     "execution_count": 61,
     "metadata": {},
     "output_type": "execute_result"
    },
    {
     "data": {
      "image/png": "[encoded data removed]",
      "text/plain": [
       "<Figure size 432x288 with 1 Axes>"
      ]
     },
     "metadata": {
      "needs_background": "light"
     },
     "output_type": "display_data"
    }
   ],
   "source": [
    "sns.histplot(df['apache_4a_hospital_death_prob'])"
   ]
  },
  {
   "cell_type": "code",
   "execution_count": 62,
   "id": "5adb8048",
   "metadata": {},
   "outputs": [],
   "source": [
    "df.drop(df[df['apache_4a_hospital_death_prob'] < 0 ].index, inplace=True)"
   ]
  },
  {
   "cell_type": "code",
   "execution_count": 63,
   "id": "fc0c4c9d",
   "metadata": {},
   "outputs": [
    {
     "data": {
      "text/plain": [
       "0.01    11023\n",
       "0.02     9970\n",
       "0.03     7504\n",
       "0.04     5996\n",
       "0.05     4869\n",
       "        ...  \n",
       "0.95       22\n",
       "0.96       21\n",
       "0.97       11\n",
       "0.98        5\n",
       "0.99        1\n",
       "Name: apache_4a_hospital_death_prob, Length: 100, dtype: int64"
      ]
     },
     "execution_count": 63,
     "metadata": {},
     "output_type": "execute_result"
    }
   ],
   "source": [
    "df['apache_4a_hospital_death_prob'].value_counts()"
   ]
  },
  {
   "cell_type": "code",
   "execution_count": 64,
   "id": "34dca7e7",
   "metadata": {},
   "outputs": [
    {
     "name": "stderr",
     "output_type": "stream",
     "text": [
      "C:\\Users\\PANKAJ\\anaconda3\\lib\\site-packages\\seaborn\\_decorators.py:36: FutureWarning: Pass the following variable as a keyword arg: x. From version 0.12, the only valid positional argument will be `data`, and passing other arguments without an explicit keyword will result in an error or misinterpretation.\n",
      "  warnings.warn(\n"
     ]
    },
    {
     "data": {
      "text/plain": [
       "<AxesSubplot:xlabel='d1_heartrate_min'>"
      ]
     },
     "execution_count": 64,
     "metadata": {},
     "output_type": "execute_result"
    },
    {
     "data": {
      "image/png": "[encoded data removed]",
      "text/plain": [
       "<Figure size 432x288 with 1 Axes>"
      ]
     },
     "metadata": {
      "needs_background": "light"
     },
     "output_type": "display_data"
    }
   ],
   "source": [
    "sns.boxplot(df['d1_heartrate_min'])"
   ]
  },
  {
   "cell_type": "code",
   "execution_count": 65,
   "id": "14821eb1",
   "metadata": {},
   "outputs": [],
   "source": [
    "df.drop(df[df['d1_heartrate_min'] < 25 ].index, inplace=True)\n",
    "df.drop(df[df['d1_heartrate_min'] > 125 ].index, inplace=True)"
   ]
  },
  {
   "cell_type": "code",
   "execution_count": 66,
   "id": "57c25da1",
   "metadata": {},
   "outputs": [
    {
     "name": "stderr",
     "output_type": "stream",
     "text": [
      "C:\\Users\\PANKAJ\\anaconda3\\lib\\site-packages\\seaborn\\_decorators.py:36: FutureWarning: Pass the following variable as a keyword arg: x. From version 0.12, the only valid positional argument will be `data`, and passing other arguments without an explicit keyword will result in an error or misinterpretation.\n",
      "  warnings.warn(\n"
     ]
    },
    {
     "data": {
      "text/plain": [
       "<AxesSubplot:xlabel='d1_heartrate_max'>"
      ]
     },
     "execution_count": 66,
     "metadata": {},
     "output_type": "execute_result"
    },
    {
     "data": {
      "image/png": "[encoded data removed]",
      "text/plain": [
       "<Figure size 432x288 with 1 Axes>"
      ]
     },
     "metadata": {
      "needs_background": "light"
     },
     "output_type": "display_data"
    }
   ],
   "source": [
    "sns.boxplot(df['d1_heartrate_max'])"
   ]
  },
  {
   "cell_type": "code",
   "execution_count": 67,
   "id": "75404b65",
   "metadata": {},
   "outputs": [],
   "source": [
    "df.drop(df[df['d1_heartrate_max'] > 160 ].index, inplace=True)"
   ]
  },
  {
   "cell_type": "code",
   "execution_count": 68,
   "id": "d204fec8",
   "metadata": {},
   "outputs": [
    {
     "data": {
      "text/plain": [
       "0"
      ]
     },
     "execution_count": 68,
     "metadata": {},
     "output_type": "execute_result"
    }
   ],
   "source": [
    "df.duplicated().sum()"
   ]
  },
  {
   "cell_type": "code",
   "execution_count": 69,
   "id": "6218cf39",
   "metadata": {},
   "outputs": [
    {
     "name": "stdout",
     "output_type": "stream",
     "text": [
      "<class 'pandas.core.frame.DataFrame'>\n",
      "Int64Index: 87142 entries, 0 to 91712\n",
      "Columns: 198 entries, hospital_death to 80-100\n",
      "dtypes: float64(169), int64(2), uint8(27)\n",
      "memory usage: 116.6 MB\n"
     ]
    }
   ],
   "source": [
    "df.info()"
   ]
  },
  {
   "cell_type": "markdown",
   "id": "538a19af",
   "metadata": {},
   "source": [
    "# Model and Training\n"
   ]
  },
  {
   "cell_type": "code",
   "execution_count": 70,
   "id": "3a141f6a",
   "metadata": {},
   "outputs": [],
   "source": [
    "from xgboost import XGBClassifier, plot_importance\n",
    "xgb_model = XGBClassifier()"
   ]
  },
  {
   "cell_type": "code",
   "execution_count": 71,
   "id": "2d14fc09",
   "metadata": {},
   "outputs": [],
   "source": [
    "X  = df.drop(['hospital_death'], axis=1)\n",
    "y = df['hospital_death']"
   ]
  },
  {
   "cell_type": "code",
   "execution_count": 72,
   "id": "0133d7ff",
   "metadata": {},
   "outputs": [],
   "source": [
    "from sklearn.model_selection import train_test_split\n",
    "X_train, X_test, y_train, y_test = train_test_split(X, y, test_size=0.2, random_state=42, stratify=df['hospital_death'])"
   ]
  },
  {
   "cell_type": "code",
   "execution_count": 73,
   "id": "92fbd34a",
   "metadata": {},
   "outputs": [
    {
     "name": "stderr",
     "output_type": "stream",
     "text": [
      "C:\\Users\\PANKAJ\\anaconda3\\lib\\site-packages\\xgboost\\sklearn.py:1224: UserWarning: The use of label encoder in XGBClassifier is deprecated and will be removed in a future release. To remove this warning, do the following: 1) Pass option use_label_encoder=False when constructing XGBClassifier object; and 2) Encode your labels (y) as integers starting with 0, i.e. 0, 1, 2, ..., [num_class - 1].\n",
      "  warnings.warn(label_encoder_deprecation_msg, UserWarning)\n"
     ]
    },
    {
     "name": "stdout",
     "output_type": "stream",
     "text": [
      "[18:47:20] WARNING: C:/Users/Administrator/workspace/xgboost-win64_release_1.5.0/src/learner.cc:1115: Starting in XGBoost 1.3.0, the default evaluation metric used with the objective 'binary:logistic' was changed from 'error' to 'logloss'. Explicitly set eval_metric if you'd like to restore the old behavior.\n"
     ]
    },
    {
     "data": {
      "text/plain": [
       "XGBClassifier(base_score=0.5, booster='gbtree', colsample_bylevel=1,\n",
       "              colsample_bynode=1, colsample_bytree=1, enable_categorical=False,\n",
       "              gamma=0, gpu_id=-1, importance_type=None,\n",
       "              interaction_constraints='', learning_rate=0.300000012,\n",
       "              max_delta_step=0, max_depth=6, min_child_weight=1, missing=nan,\n",
       "              monotone_constraints='()', n_estimators=100, n_jobs=8,\n",
       "              num_parallel_tree=1, predictor='auto', random_state=0,\n",
       "              reg_alpha=0, reg_lambda=1, scale_pos_weight=1, subsample=1,\n",
       "              tree_method='exact', validate_parameters=1, verbosity=None)"
      ]
     },
     "execution_count": 73,
     "metadata": {},
     "output_type": "execute_result"
    }
   ],
   "source": [
    "xgb_model.fit(X_train, y_train)"
   ]
  },
  {
   "cell_type": "code",
   "execution_count": 74,
   "id": "cae67d46",
   "metadata": {},
   "outputs": [],
   "source": [
    "predictions=xgb_model.predict(X_test)"
   ]
  },
  {
   "cell_type": "code",
   "execution_count": 76,
   "id": "8da60c37",
   "metadata": {},
   "outputs": [
    {
     "name": "stdout",
     "output_type": "stream",
     "text": [
      "mean_absolute_error of model:0.06764587756038785\n"
     ]
    }
   ],
   "source": [
    "from sklearn.metrics import mean_absolute_error, r2_score, mean_squared_error, classification_report, confusion_matrix\n",
    "\n",
    "MAE = mean_absolute_error(y_test, predictions)\n",
    "print(f\"mean_absolute_error of model:{MAE}\")"
   ]
  },
  {
   "cell_type": "code",
   "execution_count": 77,
   "id": "033bf280",
   "metadata": {},
   "outputs": [
    {
     "name": "stdout",
     "output_type": "stream",
     "text": [
      "              precision    recall  f1-score   support\n",
      "\n",
      "           0       0.94      0.99      0.96     16047\n",
      "           1       0.65      0.32      0.43      1382\n",
      "\n",
      "    accuracy                           0.93     17429\n",
      "   macro avg       0.80      0.65      0.70     17429\n",
      "weighted avg       0.92      0.93      0.92     17429\n",
      "\n"
     ]
    }
   ],
   "source": [
    "print(classification_report(y_test, predictions))"
   ]
  },
  {
   "cell_type": "code",
   "execution_count": 78,
   "id": "b32f72f6",
   "metadata": {},
   "outputs": [
    {
     "name": "stdout",
     "output_type": "stream",
     "text": [
      "[[15809   238]\n",
      " [  941   441]]\n"
     ]
    }
   ],
   "source": [
    "print(confusion_matrix(y_test, predictions))"
   ]
  },
  {
   "cell_type": "code",
   "execution_count": 79,
   "id": "7e6af5c7",
   "metadata": {},
   "outputs": [
    {
     "data": {
      "text/plain": [
       "<AxesSubplot:title={'center':'Feature importance'}, xlabel='F score', ylabel='Features'>"
      ]
     },
     "execution_count": 79,
     "metadata": {},
     "output_type": "execute_result"
    },
    {
     "data": {
      "image/png": "[encoded data removed]",
      "text/plain": [
       "<Figure size 720x2160 with 1 Axes>"
      ]
     },
     "metadata": {
      "needs_background": "light"
     },
     "output_type": "display_data"
    }
   ],
   "source": [
    "fig, ax = plt.subplots(figsize=(10, 30))\n",
    "plot_importance(xgb_model, grid=False, height=0.4, ax=ax)"
   ]
  },
  {
   "cell_type": "code",
   "execution_count": null,
   "id": "2d376fbf",
   "metadata": {},
   "outputs": [],
   "source": []
  }
 ],
 "metadata": {
  "kernelspec": {
   "display_name": "Python 3",
   "language": "python",
   "name": "python3"
  },
  "language_info": {
   "codemirror_mode": {
    "name": "ipython",
    "version": 3
   },
   "file_extension": ".py",
   "mimetype": "text/x-python",
   "name": "python",
   "nbconvert_exporter": "python",
   "pygments_lexer": "ipython3",
   "version": "3.8.8"
  }
 },
 "nbformat": 4,
 "nbformat_minor": 5
}
